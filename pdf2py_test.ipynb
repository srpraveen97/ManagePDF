{
 "cells": [
  {
   "cell_type": "code",
   "execution_count": 2,
   "metadata": {},
   "outputs": [],
   "source": [
    "from PyPDF2 import PdfFileReader, PdfFileWriter\n"
   ]
  },
  {
   "cell_type": "markdown",
   "metadata": {},
   "source": [
    "### Metadata from PDFs"
   ]
  },
  {
   "cell_type": "code",
   "execution_count": 3,
   "metadata": {},
   "outputs": [
    {
     "data": {
      "text/plain": [
       "{'/Author': 'cdaily',\n",
       " '/CreationDate': \"D:20000629102108+11'00'\",\n",
       " '/Creator': 'Microsoft Word 8.0',\n",
       " '/ModDate': \"D:20131028152413-04'00'\",\n",
       " '/Producer': 'Acrobat Distiller 4.0 for Windows',\n",
       " '/Title': 'This is a test PDF file'}"
      ]
     },
     "metadata": {},
     "output_type": "display_data"
    },
    {
     "data": {
      "text/plain": [
       "1"
      ]
     },
     "metadata": {},
     "output_type": "display_data"
    }
   ],
   "source": [
    "path = 'pdf_sample_1.pdf'\n",
    "with open(path, 'rb') as f:\n",
    "    pdf = PdfFileReader(f)\n",
    "    info = pdf.getDocumentInfo()\n",
    "    num_pages = pdf.getNumPages()\n",
    "        \n",
    "display(info) \n",
    "display(num_pages)"
   ]
  },
  {
   "cell_type": "code",
   "execution_count": 4,
   "metadata": {},
   "outputs": [
    {
     "data": {
      "text/plain": [
       "{'/Creator': 'Rave (http://www.nevrona.com/rave)',\n",
       " '/Producer': 'Nevrona Designs',\n",
       " '/CreationDate': 'D:20060301072826'}"
      ]
     },
     "metadata": {},
     "output_type": "display_data"
    },
    {
     "data": {
      "text/plain": [
       "2"
      ]
     },
     "metadata": {},
     "output_type": "display_data"
    }
   ],
   "source": [
    "path = 'pdf_sample_2.pdf'\n",
    "with open(path, 'rb') as f:\n",
    "    pdf = PdfFileReader(f)\n",
    "    info = pdf.getDocumentInfo()\n",
    "    num_pages = pdf.getNumPages()\n",
    "        \n",
    "display(info) \n",
    "display(num_pages)"
   ]
  },
  {
   "cell_type": "markdown",
   "metadata": {},
   "source": [
    "### Extracting Text"
   ]
  },
  {
   "cell_type": "code",
   "execution_count": 5,
   "metadata": {},
   "outputs": [
    {
     "name": "stdout",
     "output_type": "stream",
     "text": [
      "{'/Contents': IndirectObject(11, 0, 1353784978904), '/CropBox': [0, 0, 595, 842], '/MediaBox': [0, 0, 595, 842], '/Parent': IndirectObject(5, 0, 1353784978904), '/Resources': IndirectObject(14, 0, 1353784978904), '/Rotate': 0, '/Type': '/Page'}\n",
      "<class 'PyPDF2._page.PageObject'>\n",
      " Adobe Acrobat PDF Files\n",
      "Adobe® Portable Document Format (PDF) is a universal file format that preserves all\n",
      "of the fonts, formatting, colours and graphics of any source document, regardless of\n",
      "the application and platform used to create it.\n",
      "Adobe PDF is an ideal format for electronic document distribution as it overcomes the\n",
      "problems commonly encountered with electronic file sharing.\n",
      "• Anyone, anywhere can open a PDF file. All you need is the free Adobe Acrobat\n",
      "Reader. Recipients of other file formats sometimes can't open files because they\n",
      "don't have the applications used to create the documents.\n",
      "• PDF files always print correctly on any printing device.\n",
      "• PDF files always display exactly as created, regardless of fonts, software, and\n",
      "operating systems. Fonts, and graphics are not lost due to platform, software, and\n",
      "version incompatibilities.\n",
      "• The free Acrobat Reader is easy to download and can be freely distributed by\n",
      "anyone.\n",
      "• Compact PDF files are smaller than their source files and download a\n",
      "page at a time for fast display on the Web.\n"
     ]
    }
   ],
   "source": [
    "path = 'pdf_sample_1.pdf'\n",
    "with open(path, 'rb') as f:\n",
    "    pdf1 = PdfFileReader(f)\n",
    "    page1 = pdf1.getPage(0)\n",
    "    print(page1)\n",
    "    print(str(type(page1)))\n",
    "    text1 = page1.extract_text()\n",
    "    print(text1)"
   ]
  },
  {
   "cell_type": "code",
   "execution_count": 6,
   "metadata": {},
   "outputs": [
    {
     "name": "stdout",
     "output_type": "stream",
     "text": [
      "{'/Contents': IndirectObject(11, 0, 1353784978904), '/CropBox': [0, 0, 595, 842], '/MediaBox': [0, 0, 595, 842], '/Parent': IndirectObject(5, 0, 1353784978904), '/Resources': IndirectObject(14, 0, 1353784978904), '/Rotate': 0, '/Type': '/Page'}\n",
      "<class 'PyPDF2._page.PageObject'>\n",
      " A Simple PDF File \n",
      "\n",
      " This is a small demonstration .pdf file - \n",
      "\n",
      " just for use in the Virtual Mechanics tutorials. More text. And more \n",
      "\n",
      " text. And more text. And more text. And more text. \n",
      "\n",
      " And more text. And more text. And more text. And more text. And more \n",
      "\n",
      " text. And more text. Boring, zzzzz. And more text. And more text. And \n",
      "\n",
      " more text. And more text. And more text. And more text. And more text. \n",
      "\n",
      " And more text. And more text. \n",
      "\n",
      " And more text. And more text. And more text. And more text. And more \n",
      "\n",
      " text. And more text. And more text. Even more. Continued on page 2 ...\n"
     ]
    }
   ],
   "source": [
    "path = 'pdf_sample_2.pdf'\n",
    "with open(path, 'rb') as f:\n",
    "    pdf2 = PdfFileReader(f)\n",
    "    page2 = pdf2.getPage(0)\n",
    "    print(page1)\n",
    "    print(str(type(page2)))\n",
    "    text2 = page2.extract_text()\n",
    "    print(text2)"
   ]
  },
  {
   "cell_type": "markdown",
   "metadata": {},
   "source": [
    "### Edit Text"
   ]
  },
  {
   "cell_type": "code",
   "execution_count": 7,
   "metadata": {},
   "outputs": [],
   "source": [
    "import click\n",
    "\n",
    "text = click.edit(text1)"
   ]
  },
  {
   "cell_type": "code",
   "execution_count": 8,
   "metadata": {},
   "outputs": [
    {
     "name": "stdout",
     "output_type": "stream",
     "text": [
      "\n",
      "• Anyone, anywhere can open a PDF file. All you need is the free Adobe Acrobat\n",
      "Reader. Recipients of other file formats sometimes can't open files because they\n",
      "don't have the applications used to create the documents.\n",
      "• PDF files always print correctly on any printing device.\n",
      "• PDF files always display exactly as created, regardless of fonts, software, and\n",
      "operating systems. Fonts, and graphics are not lost due to platform, software, and\n",
      "version incompatibilities.\n",
      "• The free Acrobat Reader is easy to download and can be freely distributed by\n",
      "anyone.\n",
      "• Compact PDF files are smaller than their source files and download a\n",
      "page at a time for fast display on the Web.\n",
      "\n"
     ]
    }
   ],
   "source": [
    "print(text)"
   ]
  },
  {
   "cell_type": "markdown",
   "metadata": {},
   "source": [
    "### Merge PDF "
   ]
  },
  {
   "cell_type": "code",
   "execution_count": 9,
   "metadata": {},
   "outputs": [],
   "source": [
    "new_pdf = PdfFileWriter()\n",
    "path = 'pdf_sample_1.pdf'\n",
    "with open(path, 'rb') as f:\n",
    "    pdf1 = PdfFileReader(f)\n",
    "    new_pdf.add_page(pdf1.getPage(0))\n",
    "    path = 'pdf_sample_2.pdf'\n",
    "    with open(path, 'rb') as f:\n",
    "        pdf2 = PdfFileReader(f)    \n",
    "        new_pdf.add_page(pdf2.getPage(0))\n",
    "        path = 'Merged.pdf'\n",
    "        with open(path,'wb') as f:\n",
    "            new_pdf.write(f)"
   ]
  },
  {
   "cell_type": "markdown",
   "metadata": {},
   "source": [
    "### Change Page Ordering"
   ]
  },
  {
   "cell_type": "code",
   "execution_count": 10,
   "metadata": {},
   "outputs": [],
   "source": [
    "new_pdf = PdfFileWriter()\n",
    "path = 'pdf_sample_2.pdf'\n",
    "lst_page = [1,0]\n",
    "\n",
    "with open(path, 'rb') as f:\n",
    "    pdf2 = PdfFileReader(f)    \n",
    "    for page_num in lst_page:\n",
    "        new_pdf.add_page(pdf2.getPage(page_num))\n",
    "    path = 'Shuffled.pdf'\n",
    "    with open(path,'wb') as f:\n",
    "        new_pdf.write(f)"
   ]
  },
  {
   "cell_type": "markdown",
   "metadata": {},
   "source": [
    "### Split PDF"
   ]
  },
  {
   "cell_type": "code",
   "execution_count": null,
   "metadata": {},
   "outputs": [],
   "source": []
  }
 ],
 "metadata": {
  "kernelspec": {
   "display_name": "Python 3.6.13 ('gui_python')",
   "language": "python",
   "name": "python3"
  },
  "language_info": {
   "codemirror_mode": {
    "name": "ipython",
    "version": 3
   },
   "file_extension": ".py",
   "mimetype": "text/x-python",
   "name": "python",
   "nbconvert_exporter": "python",
   "pygments_lexer": "ipython3",
   "version": "3.6.13"
  },
  "orig_nbformat": 4,
  "vscode": {
   "interpreter": {
    "hash": "ac5a4c913ae64ee22baa069979485a335851f8ccef317a184f4ff28192c27830"
   }
  }
 },
 "nbformat": 4,
 "nbformat_minor": 2
}
